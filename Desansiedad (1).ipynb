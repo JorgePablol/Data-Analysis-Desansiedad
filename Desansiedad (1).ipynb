{
  "nbformat": 4,
  "nbformat_minor": 0,
  "metadata": {
    "colab": {
      "name": "Desansiedad.ipynb",
      "provenance": [],
      "collapsed_sections": []
    },
    "kernelspec": {
      "name": "python3",
      "display_name": "Python 3"
    },
    "language_info": {
      "name": "python"
    }
  },
  "cells": [
    {
      "cell_type": "code",
      "metadata": {
        "id": "Hez4bRDAZSwm"
      },
      "source": [
        "import pandas as pd\n",
        "import numpy as np\n",
        "from datetime import datetime\n",
        "import re\n",
        "import matplotlib.pyplot as plt\n",
        "import seaborn as sns"
      ],
      "execution_count": null,
      "outputs": []
    },
    {
      "cell_type": "code",
      "metadata": {
        "id": "syOGelumcllh"
      },
      "source": [
        ""
      ],
      "execution_count": null,
      "outputs": []
    },
    {
      "cell_type": "markdown",
      "metadata": {
        "id": "lhfPrmcSRp4X"
      },
      "source": [
        "# Describing revenue and behaviour"
      ]
    },
    {
      "cell_type": "code",
      "metadata": {
        "id": "KtbXu7-KulD_"
      },
      "source": [
        "rev = pd.read_csv('mes_ingresos.csv', encoding='utf-8')\n",
        "rev = rev['Ingresos'].describe()\n",
        "rev = round(b,2)\n",
        "rev.to_csv('ingresos_meses.csv', encoding='utf-8')\n"
      ],
      "execution_count": null,
      "outputs": []
    },
    {
      "cell_type": "code",
      "metadata": {
        "id": "ZsMeyaKC7m_V"
      },
      "source": [
        "df = pd.read_csv('comportamiento finale.csv', encoding='utf-8')\n",
        "described = df.describe()\n",
        "described = round(described,2)\n",
        "described.to_csv('described.csv')"
      ],
      "execution_count": null,
      "outputs": []
    },
    {
      "cell_type": "markdown",
      "metadata": {
        "id": "tSHwtZw3Rzf8"
      },
      "source": [
        "# Quick visualizations for analysis\n"
      ]
    },
    {
      "cell_type": "code",
      "metadata": {
        "colab": {
          "base_uri": "https://localhost:8080/",
          "height": 246
        },
        "id": "02EC8ggek2pd",
        "outputId": "c696eaed-3d77-4045-a41b-d25ecca40ee9"
      },
      "source": [
        "plt.figure(figsize=(15,15))\n",
        "plt.hist(df['Número de páginas vistas únicas'],bins=1000)\n",
        "plt.xticks([x for x in range(0,15500,500)])\n",
        "plt.xlim([0,15500])\n",
        "plt.ylim([0,1500])"
      ],
      "execution_count": null,
      "outputs": [
        {
          "output_type": "error",
          "ename": "NameError",
          "evalue": "ignored",
          "traceback": [
            "\u001b[0;31m---------------------------------------------------------------------------\u001b[0m",
            "\u001b[0;31mNameError\u001b[0m                                 Traceback (most recent call last)",
            "\u001b[0;32m<ipython-input-2-edd5525f4e53>\u001b[0m in \u001b[0;36m<module>\u001b[0;34m()\u001b[0m\n\u001b[1;32m      1\u001b[0m \u001b[0;32mimport\u001b[0m \u001b[0mmatplotlib\u001b[0m\u001b[0;34m.\u001b[0m\u001b[0mpyplot\u001b[0m \u001b[0;32mas\u001b[0m \u001b[0mplt\u001b[0m\u001b[0;34m\u001b[0m\u001b[0;34m\u001b[0m\u001b[0m\n\u001b[1;32m      2\u001b[0m \u001b[0mplt\u001b[0m\u001b[0;34m.\u001b[0m\u001b[0mfigure\u001b[0m\u001b[0;34m(\u001b[0m\u001b[0mfigsize\u001b[0m\u001b[0;34m=\u001b[0m\u001b[0;34m(\u001b[0m\u001b[0;36m15\u001b[0m\u001b[0;34m,\u001b[0m\u001b[0;36m15\u001b[0m\u001b[0;34m)\u001b[0m\u001b[0;34m)\u001b[0m\u001b[0;34m\u001b[0m\u001b[0;34m\u001b[0m\u001b[0m\n\u001b[0;32m----> 3\u001b[0;31m \u001b[0mplt\u001b[0m\u001b[0;34m.\u001b[0m\u001b[0mhist\u001b[0m\u001b[0;34m(\u001b[0m\u001b[0mdf\u001b[0m\u001b[0;34m[\u001b[0m\u001b[0;34m'Número de páginas vistas únicas'\u001b[0m\u001b[0;34m]\u001b[0m\u001b[0;34m,\u001b[0m\u001b[0mbins\u001b[0m\u001b[0;34m=\u001b[0m\u001b[0;36m1000\u001b[0m\u001b[0;34m)\u001b[0m\u001b[0;34m\u001b[0m\u001b[0;34m\u001b[0m\u001b[0m\n\u001b[0m\u001b[1;32m      4\u001b[0m \u001b[0mplt\u001b[0m\u001b[0;34m.\u001b[0m\u001b[0mxticks\u001b[0m\u001b[0;34m(\u001b[0m\u001b[0;34m[\u001b[0m\u001b[0mx\u001b[0m \u001b[0;32mfor\u001b[0m \u001b[0mx\u001b[0m \u001b[0;32min\u001b[0m \u001b[0mrange\u001b[0m\u001b[0;34m(\u001b[0m\u001b[0;36m0\u001b[0m\u001b[0;34m,\u001b[0m\u001b[0;36m15500\u001b[0m\u001b[0;34m,\u001b[0m\u001b[0;36m500\u001b[0m\u001b[0;34m)\u001b[0m\u001b[0;34m]\u001b[0m\u001b[0;34m)\u001b[0m\u001b[0;34m\u001b[0m\u001b[0;34m\u001b[0m\u001b[0m\n\u001b[1;32m      5\u001b[0m \u001b[0mplt\u001b[0m\u001b[0;34m.\u001b[0m\u001b[0mxlim\u001b[0m\u001b[0;34m(\u001b[0m\u001b[0;34m[\u001b[0m\u001b[0;36m0\u001b[0m\u001b[0;34m,\u001b[0m\u001b[0;36m15500\u001b[0m\u001b[0;34m]\u001b[0m\u001b[0;34m)\u001b[0m\u001b[0;34m\u001b[0m\u001b[0;34m\u001b[0m\u001b[0m\n",
            "\u001b[0;31mNameError\u001b[0m: name 'df' is not defined"
          ]
        },
        {
          "output_type": "display_data",
          "data": {
            "text/plain": [
              "<Figure size 1080x1080 with 0 Axes>"
            ]
          },
          "metadata": {
            "tags": []
          }
        }
      ]
    },
    {
      "cell_type": "code",
      "metadata": {
        "colab": {
          "base_uri": "https://localhost:8080/",
          "height": 584
        },
        "id": "Zx3AwM2jkAuL",
        "outputId": "96b9d655-b329-4efc-9cfb-588612fb051e"
      },
      "source": [
        "plt.hist(df['Promedio de tiempo en la página'], bins=50)"
      ],
      "execution_count": null,
      "outputs": [
        {
          "output_type": "execute_result",
          "data": {
            "text/plain": [
              "(array([102., 158.,  74.,  78.,  74.,  71.,  70.,  63.,  52.,  58.,  54.,\n",
              "         60.,  69.,  61.,  64.,  66.,  54.,  51.,  44.,  38.,  37.,  24.,\n",
              "         20.,  16.,  18.,  14.,   5.,   4.,   5.,   1.,   0.,   2.,   1.,\n",
              "          0.,   1.,   0.,   0.,   1.,   0.,   0.,   0.,   1.,   0.,   0.,\n",
              "          0.,   0.,   0.,   0.,   0.,   1.]),\n",
              " array([  9.37333333,  25.63253333,  41.89173333,  58.15093333,\n",
              "         74.41013333,  90.66933333, 106.92853333, 123.18773333,\n",
              "        139.44693333, 155.70613333, 171.96533333, 188.22453333,\n",
              "        204.48373333, 220.74293333, 237.00213333, 253.26133333,\n",
              "        269.52053333, 285.77973333, 302.03893333, 318.29813333,\n",
              "        334.55733333, 350.81653333, 367.07573333, 383.33493333,\n",
              "        399.59413333, 415.85333333, 432.11253333, 448.37173333,\n",
              "        464.63093333, 480.89013333, 497.14933333, 513.40853333,\n",
              "        529.66773333, 545.92693333, 562.18613333, 578.44533333,\n",
              "        594.70453333, 610.96373333, 627.22293333, 643.48213333,\n",
              "        659.74133333, 676.00053333, 692.25973333, 708.51893333,\n",
              "        724.77813333, 741.03733333, 757.29653333, 773.55573333,\n",
              "        789.81493333, 806.07413333, 822.33333333]),\n",
              " <a list of 50 Patch objects>)"
            ]
          },
          "metadata": {
            "tags": []
          },
          "execution_count": 10
        },
        {
          "output_type": "display_data",
          "data": {
            "image/png": "[encoded data removed]",
            "text/plain": [
              "<Figure size 432x288 with 1 Axes>"
            ]
          },
          "metadata": {
            "tags": [],
            "needs_background": "light"
          }
        }
      ]
    },
    {
      "cell_type": "code",
      "metadata": {
        "colab": {
          "base_uri": "https://localhost:8080/",
          "height": 434
        },
        "id": "5lO-JQQ7k-T2",
        "outputId": "bf82504d-0dff-4c67-a092-f9fec39f50f0"
      },
      "source": [
        "plt.hist(df['Porcentaje de rebote'], bins=50)"
      ],
      "execution_count": null,
      "outputs": [
        {
          "output_type": "execute_result",
          "data": {
            "text/plain": [
              "(array([30.,  9.,  8.,  7.,  9., 12.,  9., 18., 23., 23., 38., 33., 45.,\n",
              "        14., 36., 43., 51., 26., 40., 36., 46., 29., 40., 35., 22., 39.,\n",
              "        15., 27., 31., 26., 40., 45., 44., 36., 46., 43., 44., 41., 58.,\n",
              "        51., 52., 48., 36., 39., 26., 24., 13.,  1.,  0.,  3.]),\n",
              " array([0.  , 0.02, 0.04, 0.06, 0.08, 0.1 , 0.12, 0.14, 0.16, 0.18, 0.2 ,\n",
              "        0.22, 0.24, 0.26, 0.28, 0.3 , 0.32, 0.34, 0.36, 0.38, 0.4 , 0.42,\n",
              "        0.44, 0.46, 0.48, 0.5 , 0.52, 0.54, 0.56, 0.58, 0.6 , 0.62, 0.64,\n",
              "        0.66, 0.68, 0.7 , 0.72, 0.74, 0.76, 0.78, 0.8 , 0.82, 0.84, 0.86,\n",
              "        0.88, 0.9 , 0.92, 0.94, 0.96, 0.98, 1.  ]),\n",
              " <a list of 50 Patch objects>)"
            ]
          },
          "metadata": {
            "tags": []
          },
          "execution_count": 12
        },
        {
          "output_type": "display_data",
          "data": {
            "image/png": "[encoded data removed]",
            "text/plain": [
              "<Figure size 432x288 with 1 Axes>"
            ]
          },
          "metadata": {
            "tags": [],
            "needs_background": "light"
          }
        }
      ]
    },
    {
      "cell_type": "code",
      "metadata": {
        "id": "bqb401rslEFq",
        "colab": {
          "base_uri": "https://localhost:8080/",
          "height": 550
        },
        "outputId": "34617476-901f-404a-b60b-8b9a1028ece2"
      },
      "source": [
        "plt.hist(df['Porcentaje de salidas'], bins=50)"
      ],
      "execution_count": null,
      "outputs": [
        {
          "output_type": "execute_result",
          "data": {
            "text/plain": [
              "(array([ 16.,  76., 104.,  84.,  80.,  65.,  51.,  47.,  38.,  39.,  39.,\n",
              "         43.,  31.,  27.,  27.,  32.,  28.,  18.,  23.,  20.,  23.,  28.,\n",
              "         32.,  24.,  31.,  34.,  35.,  30.,  32.,  20.,  20.,  31.,  25.,\n",
              "         21.,  28.,  27.,  26.,  17.,  14.,  19.,  17.,  21.,  21.,  18.,\n",
              "         15.,   7.,   7.,   0.,   0.,   1.]),\n",
              " array([0.00578035, 0.02542378, 0.04506721, 0.06471063, 0.08435406,\n",
              "        0.10399749, 0.12364092, 0.14328435, 0.16292778, 0.18257121,\n",
              "        0.20221464, 0.22185807, 0.2415015 , 0.26114493, 0.28078836,\n",
              "        0.30043178, 0.32007521, 0.33971864, 0.35936207, 0.3790055 ,\n",
              "        0.39864893, 0.41829236, 0.43793579, 0.45757922, 0.47722265,\n",
              "        0.49686608, 0.51650951, 0.53615294, 0.55579636, 0.57543979,\n",
              "        0.59508322, 0.61472665, 0.63437008, 0.65401351, 0.67365694,\n",
              "        0.69330037, 0.7129438 , 0.73258723, 0.75223066, 0.77187409,\n",
              "        0.79151752, 0.81116094, 0.83080437, 0.8504478 , 0.87009123,\n",
              "        0.88973466, 0.90937809, 0.92902152, 0.94866495, 0.96830838,\n",
              "        0.98795181]),\n",
              " <a list of 50 Patch objects>)"
            ]
          },
          "metadata": {
            "tags": []
          },
          "execution_count": 13
        },
        {
          "output_type": "display_data",
          "data": {
            "image/png": "[encoded data removed]",
            "text/plain": [
              "<Figure size 432x288 with 1 Axes>"
            ]
          },
          "metadata": {
            "tags": [],
            "needs_background": "light"
          }
        }
      ]
    },
    {
      "cell_type": "code",
      "metadata": {
        "colab": {
          "base_uri": "https://localhost:8080/",
          "height": 297
        },
        "id": "8cBZS-4HdsfY",
        "outputId": "82cdc39a-1a9b-49a2-f280-2f664816461c"
      },
      "source": [
        "\n",
        "plt.figsize=(15,15)\n",
        "sns.boxplot(x=df['Número de páginas vistas únicas'] )"
      ],
      "execution_count": null,
      "outputs": [
        {
          "output_type": "execute_result",
          "data": {
            "text/plain": [
              "<matplotlib.axes._subplots.AxesSubplot at 0x7f184ddcbad0>"
            ]
          },
          "metadata": {
            "tags": []
          },
          "execution_count": 17
        },
        {
          "output_type": "display_data",
          "data": {
            "image/png": "[encoded data removed]",
            "text/plain": [
              "<Figure size 432x288 with 1 Axes>"
            ]
          },
          "metadata": {
            "tags": [],
            "needs_background": "light"
          }
        }
      ]
    },
    {
      "cell_type": "code",
      "metadata": {
        "id": "84Jj3slXR7N8"
      },
      "source": [
        ""
      ],
      "execution_count": null,
      "outputs": []
    },
    {
      "cell_type": "markdown",
      "metadata": {
        "id": "ICyCOUNgR8A1"
      },
      "source": [
        "# Getting rid of outliers in the datasets and describing the new data"
      ]
    },
    {
      "cell_type": "code",
      "metadata": {
        "id": "4xUcDboegoJV"
      },
      "source": [
        "mask = df['Número de páginas vistas únicas']<= 4602.5\n",
        "desenmascarando = df['Número de páginas vistas únicas'][mask]\n",
        "desenmascarando.describe()"
      ],
      "execution_count": null,
      "outputs": []
    },
    {
      "cell_type": "code",
      "metadata": {
        "colab": {
          "base_uri": "https://localhost:8080/"
        },
        "id": "SZ-DZtourLYI",
        "outputId": "04383bce-8d74-4b64-bbab-788137ccb37b"
      },
      "source": [
        ""
      ],
      "execution_count": null,
      "outputs": [
        {
          "output_type": "execute_result",
          "data": {
            "text/plain": [
              "count    1339.000000\n",
              "mean      928.767737\n",
              "std      1012.871102\n",
              "min       100.000000\n",
              "25%       223.000000\n",
              "50%       464.000000\n",
              "75%      1296.000000\n",
              "max      4573.000000\n",
              "Name: Número de páginas vistas únicas, dtype: float64"
            ]
          },
          "metadata": {
            "tags": []
          },
          "execution_count": 37
        }
      ]
    },
    {
      "cell_type": "markdown",
      "metadata": {
        "id": "6nwOONWISPZw"
      },
      "source": [
        "# Analysing the dataset without the less than minimum and greater than maximum values (on a boxplot context)"
      ]
    },
    {
      "cell_type": "code",
      "metadata": {
        "colab": {
          "base_uri": "https://localhost:8080/",
          "height": 880
        },
        "id": "k6QDt2JprTF4",
        "outputId": "beefa345-445b-4954-d79c-c7ac14145315"
      },
      "source": [
        "mask = df['Número de páginas vistas únicas']<= 2905.5\n",
        "desenmascarando2 = df['Número de páginas vistas únicas'][mask]\n",
        "plt.figure(figsize=(15,15))\n",
        "plt.hist(desenmascarando2,bins=1000)\n",
        "plt.xticks([x for x in range(0,3500,100)])\n",
        "plt.xlim([0,3500])\n",
        "plt.ylim([0,150])"
      ],
      "execution_count": null,
      "outputs": [
        {
          "output_type": "execute_result",
          "data": {
            "text/plain": [
              "(0.0, 150.0)"
            ]
          },
          "metadata": {
            "tags": []
          },
          "execution_count": 44
        },
        {
          "output_type": "display_data",
          "data": {
            "image/png": "[encoded data removed]",
            "text/plain": [
              "<Figure size 1080x1080 with 1 Axes>"
            ]
          },
          "metadata": {
            "tags": [],
            "needs_background": "light"
          }
        }
      ]
    },
    {
      "cell_type": "code",
      "metadata": {
        "id": "Z9tBFna8rhUC"
      },
      "source": [
        "mask = df['Número de páginas vistas únicas']<= 4602.5\n",
        "mask2 = df['Número de páginas vistas únicas']>= 1988.5\n",
        "desenmascarando2 = df['Número de páginas vistas únicas'][mask]"
      ],
      "execution_count": null,
      "outputs": []
    },
    {
      "cell_type": "code",
      "metadata": {
        "id": "MCmjPjGlw6LE"
      },
      "source": [
        "res = desenmascarando2[mask2]"
      ],
      "execution_count": null,
      "outputs": []
    },
    {
      "cell_type": "code",
      "metadata": {
        "colab": {
          "base_uri": "https://localhost:8080/"
        },
        "id": "hFquO52YxLS7",
        "outputId": "e7859ac9-ea7e-48a6-ade6-4ebe61408875"
      },
      "source": [
        "res.describe()"
      ],
      "execution_count": null,
      "outputs": [
        {
          "output_type": "execute_result",
          "data": {
            "text/plain": [
              "count     205.000000\n",
              "mean     2962.614634\n",
              "std       719.152471\n",
              "min      1996.000000\n",
              "25%      2288.000000\n",
              "50%      2865.000000\n",
              "75%      3545.000000\n",
              "max      4573.000000\n",
              "Name: Número de páginas vistas únicas, dtype: float64"
            ]
          },
          "metadata": {
            "tags": []
          },
          "execution_count": 54
        }
      ]
    },
    {
      "cell_type": "code",
      "metadata": {
        "colab": {
          "base_uri": "https://localhost:8080/",
          "height": 884
        },
        "id": "Ri2R2oi8xRkW",
        "outputId": "4bdc12f3-d41f-47c8-bf98-2c69f0741527"
      },
      "source": [
        "mask = df['Número de páginas vistas únicas']>= 4602.5\n",
        "res2 = df['Número de páginas vistas únicas'][mask]\n",
        "plt.figure(figsize=(15,15))\n",
        "plt.hist(res2,bins=1000)\n",
        "plt.xticks([x for x in range(4500,240000,10000)])\n",
        "plt.xlim([4500,245000])\n",
        "plt.ylim([0,200])"
      ],
      "execution_count": null,
      "outputs": [
        {
          "output_type": "execute_result",
          "data": {
            "text/plain": [
              "(0.0, 200.0)"
            ]
          },
          "metadata": {
            "tags": []
          },
          "execution_count": 58
        },
        {
          "output_type": "display_data",
          "data": {
            "image/png": "[encoded data removed]",
            "text/plain": [
              "<Figure size 1080x1080 with 1 Axes>"
            ]
          },
          "metadata": {
            "tags": [],
            "needs_background": "light"
          }
        }
      ]
    },
    {
      "cell_type": "code",
      "metadata": {
        "colab": {
          "base_uri": "https://localhost:8080/"
        },
        "id": "3wCMVi2w9guX",
        "outputId": "55382c22-1a71-4359-b47c-4bb43dc93bac"
      },
      "source": [
        "res2.describe()"
      ],
      "execution_count": null,
      "outputs": [
        {
          "output_type": "execute_result",
          "data": {
            "text/plain": [
              "count       173.000000\n",
              "mean      14943.976879\n",
              "std       23576.373828\n",
              "min        4603.000000\n",
              "25%        5446.000000\n",
              "50%        7183.000000\n",
              "75%       14242.000000\n",
              "max      215079.000000\n",
              "Name: Número de páginas vistas únicas, dtype: float64"
            ]
          },
          "metadata": {
            "tags": []
          },
          "execution_count": 59
        }
      ]
    },
    {
      "cell_type": "code",
      "metadata": {
        "id": "-81fHWqsSyz8"
      },
      "source": [
        ""
      ],
      "execution_count": null,
      "outputs": []
    },
    {
      "cell_type": "markdown",
      "metadata": {
        "id": "1VimDjVSS0Wj"
      },
      "source": [
        "# The hours dataset analysed, described, and also deleting outliers"
      ]
    },
    {
      "cell_type": "code",
      "metadata": {
        "id": "vw22U1L49kx6"
      },
      "source": [
        "horas = pd.read_csv('horas.csv')\n",
        "horas.info()\n",
        "horas['Ingresos'].describe()"
      ],
      "execution_count": null,
      "outputs": []
    },
    {
      "cell_type": "code",
      "metadata": {
        "colab": {
          "base_uri": "https://localhost:8080/"
        },
        "id": "9_3d0Cyakuyp",
        "outputId": "48f410bd-5320-4054-94f0-dfab64a8d672"
      },
      "source": [
        "aver.describe()"
      ],
      "execution_count": null,
      "outputs": [
        {
          "output_type": "execute_result",
          "data": {
            "text/plain": [
              "count    1775.000000\n",
              "mean     2626.913003\n",
              "std      1644.802190\n",
              "min        16.990000\n",
              "25%      1399.000000\n",
              "50%      2559.200000\n",
              "75%      3309.050000\n",
              "max      6988.300000\n",
              "Name: Ingresos, dtype: float64"
            ]
          },
          "metadata": {
            "tags": []
          },
          "execution_count": 9
        }
      ]
    },
    {
      "cell_type": "code",
      "metadata": {
        "id": "7lgOKdbevs6k"
      },
      "source": [
        "aver.to_csv('diasNoOutliers.csv')"
      ],
      "execution_count": null,
      "outputs": []
    },
    {
      "cell_type": "code",
      "metadata": {
        "colab": {
          "base_uri": "https://localhost:8080/",
          "height": 282
        },
        "id": "AsrBmdTekv2Z",
        "outputId": "07b702be-2a00-423f-a668-8c0d0957f7ef"
      },
      "source": [
        "aver.plot(kind='hist')"
      ],
      "execution_count": null,
      "outputs": [
        {
          "output_type": "execute_result",
          "data": {
            "text/plain": [
              "<matplotlib.axes._subplots.AxesSubplot at 0x7f1047cc4810>"
            ]
          },
          "metadata": {
            "tags": []
          },
          "execution_count": 10
        },
        {
          "output_type": "display_data",
          "data": {
            "image/png": "[encoded data removed]",
            "text/plain": [
              "<Figure size 432x288 with 1 Axes>"
            ]
          },
          "metadata": {
            "tags": [],
            "needs_background": "light"
          }
        }
      ]
    },
    {
      "cell_type": "code",
      "metadata": {
        "colab": {
          "base_uri": "https://localhost:8080/",
          "height": 282
        },
        "id": "csy6TKJblgrk",
        "outputId": "0fcf13f2-a2eb-4c96-9950-3812ebed3a31"
      },
      "source": [
        "horas.plot(kind='hist')"
      ],
      "execution_count": null,
      "outputs": [
        {
          "output_type": "execute_result",
          "data": {
            "text/plain": [
              "<matplotlib.axes._subplots.AxesSubplot at 0x7f1047737290>"
            ]
          },
          "metadata": {
            "tags": []
          },
          "execution_count": 11
        },
        {
          "output_type": "display_data",
          "data": {
            "image/png": "[encoded data removed]",
            "text/plain": [
              "<Figure size 432x288 with 1 Axes>"
            ]
          },
          "metadata": {
            "tags": [],
            "needs_background": "light"
          }
        }
      ]
    },
    {
      "cell_type": "code",
      "metadata": {
        "colab": {
          "base_uri": "https://localhost:8080/"
        },
        "id": "NDZpHeqnlj84",
        "outputId": "539ddc3b-3a8a-484e-af8d-332ab7c94062"
      },
      "source": [
        "noOut = pd.read_csv('dias sin outliers.csv')\n",
        "noOut['Ingresos'].describe()"
      ],
      "execution_count": null,
      "outputs": [
        {
          "output_type": "execute_result",
          "data": {
            "text/plain": [
              "count      201.000000\n",
              "mean     23645.582736\n",
              "std      11867.932677\n",
              "min       1849.000000\n",
              "25%      15744.750000\n",
              "50%      22022.300000\n",
              "75%      28320.700000\n",
              "max      56422.900000\n",
              "Name: Ingresos, dtype: float64"
            ]
          },
          "metadata": {
            "tags": []
          },
          "execution_count": 19
        }
      ]
    },
    {
      "cell_type": "code",
      "metadata": {
        "colab": {
          "base_uri": "https://localhost:8080/",
          "height": 285
        },
        "id": "c49JFgF0wHdZ",
        "outputId": "30d460ce-b48d-4ebc-fd5f-ddb89a11ec92"
      },
      "source": [
        "noOut['Ingresos'].plot(kind='hist')"
      ],
      "execution_count": null,
      "outputs": [
        {
          "output_type": "execute_result",
          "data": {
            "text/plain": [
              "<matplotlib.axes._subplots.AxesSubplot at 0x7f10472d6c10>"
            ]
          },
          "metadata": {
            "tags": []
          },
          "execution_count": 15
        },
        {
          "output_type": "display_data",
          "data": {
            "image/png": "[encoded data removed]",
            "text/plain": [
              "<Figure size 432x288 with 1 Axes>"
            ]
          },
          "metadata": {
            "tags": [],
            "needs_background": "light"
          }
        }
      ]
    },
    {
      "cell_type": "code",
      "metadata": {
        "id": "NAXVY5oMwc5T"
      },
      "source": [
        "noOut['Ingresos'].describe().to_csv('noout.csv')"
      ],
      "execution_count": null,
      "outputs": []
    },
    {
      "cell_type": "code",
      "metadata": {
        "id": "kRSgOI14TA7i"
      },
      "source": [
        ""
      ],
      "execution_count": null,
      "outputs": []
    },
    {
      "cell_type": "markdown",
      "metadata": {
        "id": "f0_rzFpkTCOh"
      },
      "source": [
        "# Quick statistical description of behaviour datasets "
      ]
    },
    {
      "cell_type": "code",
      "metadata": {
        "id": "f8b-je3h-bNa"
      },
      "source": [
        "df = pd.read_csv('comportamiento No outliers.csv')\n",
        "round(df.describe(),2)\n",
        "df.describe().to_csv('described behaviour.csv')"
      ],
      "execution_count": null,
      "outputs": []
    },
    {
      "cell_type": "code",
      "metadata": {
        "id": "ign5FzJZE3zU"
      },
      "source": [
        "comp = pd.read_csv('comportamientoTotal.csv')\n",
        "comp_cl = comp[:174]\n",
        "round(comp_cl.describe(),2)\n",
        "comp_cl.describe().to_csv('comportamiento_described.csv')"
      ],
      "execution_count": null,
      "outputs": []
    },
    {
      "cell_type": "code",
      "metadata": {
        "id": "en_sR6ECFM0h"
      },
      "source": [
        "df = pd.read_csv('comportamientoBlogs.csv')\n",
        "round(df.describe(),2).to_csv('blogs_described.csv')"
      ],
      "execution_count": null,
      "outputs": []
    },
    {
      "cell_type": "code",
      "metadata": {
        "id": "0Gx_6uWs4gFT"
      },
      "source": [
        "df = pd.read_csv('comppag.csv')\n",
        "df['Número de páginas vistas únicas'].sum()"
      ],
      "execution_count": null,
      "outputs": []
    },
    {
      "cell_type": "code",
      "metadata": {
        "id": "VEu6poV7RjQN"
      },
      "source": [
        "df['Número de páginas vistas únicas'][:173].sum()"
      ],
      "execution_count": null,
      "outputs": []
    },
    {
      "cell_type": "code",
      "metadata": {
        "colab": {
          "base_uri": "https://localhost:8080/"
        },
        "id": "ZWOp_rQGMSw0",
        "outputId": "8f4ec109-52b4-42e7-92f1-28f8e1ab75aa"
      },
      "source": [
        "most_important_173 = 2585308/ 4346201\n",
        "most_important_173"
      ],
      "execution_count": null,
      "outputs": [
        {
          "output_type": "execute_result",
          "data": {
            "text/plain": [
              "0.5948431745333453"
            ]
          },
          "metadata": {
            "tags": []
          },
          "execution_count": 11
        }
      ]
    },
    {
      "cell_type": "code",
      "metadata": {
        "colab": {
          "base_uri": "https://localhost:8080/"
        },
        "id": "Pjrb3UyRMa12",
        "outputId": "34f8e2fe-0a7d-4905-fef9-f15f1046c203"
      },
      "source": [
        "df['Número de páginas vistas únicas'][:17].sum()"
      ],
      "execution_count": null,
      "outputs": [
        {
          "output_type": "execute_result",
          "data": {
            "text/plain": [
              "1154867"
            ]
          },
          "metadata": {
            "tags": []
          },
          "execution_count": 13
        }
      ]
    },
    {
      "cell_type": "code",
      "metadata": {
        "id": "1OfsERGNOE5H"
      },
      "source": [
        "most_important_17 = 1154867/ 4346201\n",
        "most_important_17"
      ],
      "execution_count": null,
      "outputs": []
    }
  ]
}